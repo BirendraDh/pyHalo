{
 "cells": [
  {
   "cell_type": "markdown",
   "metadata": {},
   "source": [
    "# Import Subhalo Properties from Galacticus Output\n",
    "\n",
    "This notebook demonstrates importing subhalo properties from galacticus and incorporating into a realization"
   ]
  },
  {
   "cell_type": "code",
   "execution_count": 5,
   "metadata": {},
   "outputs": [],
   "source": [
    "from pyHalo.Halos.galacticus_util.galacticus_util import GalacticusFileReader\n",
    "from pyHalo.preset_models import DMFromGalacticus\n",
    "\n",
    "galacticusfile = GalacticusFileReader.read_file(\"data/TNFW_example.hdf5\")"
   ]
  },
  {
   "cell_type": "code",
   "execution_count": 6,
   "metadata": {},
   "outputs": [],
   "source": [
    "realization = DMFromGalacticus(0.5,2,galacticusfile,{\"cone_opening_angle_arcsec\":10},(1E9,1E10),False,None,None,2)"
   ]
  },
  {
   "cell_type": "code",
   "execution_count": null,
   "metadata": {},
   "outputs": [],
   "source": []
  }
 ],
 "metadata": {
  "kernelspec": {
   "display_name": "pyhalo",
   "language": "python",
   "name": "python3"
  },
  "language_info": {
   "codemirror_mode": {
    "name": "ipython",
    "version": 3
   },
   "file_extension": ".py",
   "mimetype": "text/x-python",
   "name": "python",
   "nbconvert_exporter": "python",
   "pygments_lexer": "ipython3",
   "version": "3.11.4"
  },
  "orig_nbformat": 4
 },
 "nbformat": 4,
 "nbformat_minor": 2
}
