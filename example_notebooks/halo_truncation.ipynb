{
 "cells": [
  {
   "cell_type": "code",
   "execution_count": 1,
   "id": "30bf6538",
   "metadata": {},
   "outputs": [],
   "source": [
    "from pyHalo.preset_models import CDM, WDM\n",
    "import matplotlib.pyplot as plt\n",
    "import numpy as np\n",
    "import pickle\n",
    "import os"
   ]
  },
  {
   "cell_type": "code",
   "execution_count": 2,
   "id": "a530e913",
   "metadata": {},
   "outputs": [],
   "source": [
    "zlens = 0.5\n",
    "zsource = 2.0\n",
    "\n",
    "subhalos_1 = CDM(zlens, zsource, LOS_normalization=0.0, sigma_sub=0.1,\n",
    "                truncation_model_subhalos='TRUNCATION_GALACTICUS')\n",
    "\n",
    "subhalos_1_wdm = WDM(zlens, zsource, log_mc=7., LOS_normalization=0.0, sigma_sub=0.1,\n",
    "                truncation_model_subhalos='TRUNCATION_GALACTICUS')\n",
    "\n",
    "kwargs_concentration_model = {'c0': 50.0, 'beta': 0.9, 'zeta': 1.1, 'scatter': False}\n",
    "subhalos_1_v2 = CDM(zlens, zsource, LOS_normalization=0.0, sigma_sub=0.1,\n",
    "                truncation_model_subhalos='TRUNCATION_GALACTICUS',\n",
    "                   concentration_model_subhalos='PEAK_HEIGHT_POWERLAW',\n",
    "                   kwargs_concentration_model_subhalos=kwargs_concentration_model)\n",
    "\n",
    "subhalos_2 = CDM(zlens, zsource, LOS_normalization=0.0, sigma_sub=0.1)"
   ]
  },
  {
   "cell_type": "code",
   "execution_count": 5,
   "id": "5a432611",
   "metadata": {
    "scrolled": false
   },
   "outputs": [
    {
     "data": {
      "text/plain": [
       "([], [])"
      ]
     },
     "execution_count": 5,
     "metadata": {},
     "output_type": "execute_result"
    },
    {
     "data": {
      "image/png": "[encoded data removed]",
      "text/plain": [
       "<Figure size 576x360 with 1 Axes>"
      ]
     },
     "metadata": {
      "needs_background": "light"
     },
     "output_type": "display_data"
    }
   ],
   "source": [
    "tau_1 = []\n",
    "tau_2 = []\n",
    "tau_1_wdm = []\n",
    "tau_1_v2 = []\n",
    "\n",
    "for halo in subhalos_1.halos:\n",
    "    params_phys = halo.params_physical\n",
    "    tau_1.append(params_phys['r_trunc_kpc']/params_phys['rs'])\n",
    "for halo in subhalos_2.halos:\n",
    "    params_phys = halo.params_physical\n",
    "    tau_2.append(params_phys['r_trunc_kpc']/params_phys['rs'])\n",
    "for halo in subhalos_1_wdm.halos:\n",
    "    params_phys = halo.params_physical\n",
    "    tau_1_wdm.append(params_phys['r_trunc_kpc']/params_phys['rs'])\n",
    "for halo in subhalos_1_v2.halos:\n",
    "    params_phys = halo.params_physical\n",
    "    tau_1_v2.append(params_phys['r_trunc_kpc']/params_phys['rs'])\n",
    "    \n",
    "fig = plt.figure(1)\n",
    "fig.set_size_inches(8,5)\n",
    "_ = plt.hist(np.log10(tau_1),bins=35,range=(-0.75, 1.5), color='k',alpha=0.5,density=True,\n",
    "             label='CDM\\n Galacticus')\n",
    "_ = plt.hist(np.log10(tau_2),bins=35,range=(-0.75, 1.5), color='m',alpha=0.5,density=True,\n",
    "            label='CDM and WDM\\nGilman et al. (2020)')\n",
    "_ = plt.hist(np.log10(tau_1_wdm),bins=35,range=(-0.75,1.5), color='r',alpha=0.5,density=True,\n",
    "            label='WDM\\n Galacticus')\n",
    "_ = plt.hist(np.log10(tau_1_v2),bins=35,range=(-0.75,1.5), color='g',alpha=0.5,density=True,\n",
    "            label='CDM\\n Galacticus\\n'+r'$c_8 = 50$')\n",
    "\n",
    "plt.xlabel(r'$\\log_{10} \\frac{r_t}{r_s}$', fontsize=22)\n",
    "plt.legend(frameon=False,fontsize=14)\n",
    "plt.yticks([])"
   ]
  },
  {
   "cell_type": "code",
   "execution_count": 6,
   "id": "599a6662",
   "metadata": {},
   "outputs": [],
   "source": [
    "zlens = 0.5\n",
    "zsource = 2.0\n",
    "LOS_1 = CDM(zlens, zsource, LOS_normalization=1.0, sigma_sub=0.0)\n",
    "LOS_2 = CDM(zlens, zsource, LOS_normalization=1.0, sigma_sub=0.0,\n",
    "           truncation_model_fieldhalos='SPLASHBACK')"
   ]
  },
  {
   "cell_type": "code",
   "execution_count": 7,
   "id": "c9d2a6de",
   "metadata": {},
   "outputs": [],
   "source": [
    "tau_LOS_1 = []\n",
    "tau_LOS_2 = []\n",
    "\n",
    "for halo in LOS_1.halos:\n",
    "    params_phys = halo.params_physical\n",
    "    tau_LOS_1.append(params_phys['r_trunc_kpc']/params_phys['rs'])\n",
    "for halo in LOS_2.halos:\n",
    "    params_phys = halo.params_physical\n",
    "    tau_LOS_2.append(params_phys['r_trunc_kpc']/params_phys['rs'])\n"
   ]
  },
  {
   "cell_type": "code",
   "execution_count": 8,
   "id": "a1018393",
   "metadata": {},
   "outputs": [
    {
     "data": {
      "text/plain": [
       "([], [])"
      ]
     },
     "execution_count": 8,
     "metadata": {},
     "output_type": "execute_result"
    },
    {
     "data": {
      "image/png": "[encoded data removed]",
      "text/plain": [
       "<Figure size 576x360 with 1 Axes>"
      ]
     },
     "metadata": {
      "needs_background": "light"
     },
     "output_type": "display_data"
    }
   ],
   "source": [
    "fig = plt.figure(1)\n",
    "fig.set_size_inches(8,5)\n",
    "_ = plt.hist(np.log10(tau_LOS_1),bins=35,range=(0.5, 2.0), color='k',alpha=0.5,density=True,\n",
    "             label='r50')\n",
    "_ = plt.hist(np.log10(tau_LOS_2),bins=35,range=(0.5, 2.0), color='m',alpha=0.5,density=True,\n",
    "            label='splahsback')\n",
    "\n",
    "plt.xlabel(r'$\\log_{10} \\frac{r_t}{r_s}$', fontsize=22)\n",
    "plt.legend(frameon=False,fontsize=14)\n",
    "plt.yticks([])"
   ]
  },
  {
   "cell_type": "code",
   "execution_count": 9,
   "id": "b1cf531b",
   "metadata": {},
   "outputs": [],
   "source": [
    "median_rt_over_rs = 2.0\n",
    "c_power = 3.0\n",
    "zlens = 0.5\n",
    "zsource = 2.0\n",
    "sigma_sub = 0.1\n",
    "subhalos_1 = CDM(zlens, zsource, LOS_normalization=0.0, sigma_sub=sigma_sub,\n",
    "                truncation_model_subhalos='TRUNCATION_MEAN_DENSITY', \n",
    "                 kwargs_truncation_model_subhalos={'median_rt_over_rs': median_rt_over_rs, 'c_power': c_power})\n",
    "\n",
    "subhalos_1_wdm = WDM(zlens, zsource, log_mc=5.5, LOS_normalization=0.0, sigma_sub=sigma_sub,\n",
    "                truncation_model_subhalos='TRUNCATION_MEAN_DENSITY', \n",
    "                 kwargs_truncation_model_subhalos={'median_rt_over_rs': median_rt_over_rs, 'c_power': c_power})\n",
    "\n",
    "kwargs_concentration_model = {'c0': 50.0, 'beta': 0.9, 'zeta': 1.1, 'scatter': False}\n",
    "subhalos_1_v2 = CDM(zlens, zsource, LOS_normalization=0.0, sigma_sub=sigma_sub,\n",
    "                truncation_model_subhalos='TRUNCATION_MEAN_DENSITY', \n",
    "                 kwargs_truncation_model_subhalos={'median_rt_over_rs': median_rt_over_rs, 'c_power': c_power},\n",
    "                   concentration_model_subhalos='PEAK_HEIGHT_POWERLAW',\n",
    "                   kwargs_concentration_model_subhalos=kwargs_concentration_model)\n",
    "\n",
    "subhalos_2 = CDM(zlens, zsource, LOS_normalization=0.0, sigma_sub=sigma_sub)"
   ]
  },
  {
   "cell_type": "code",
   "execution_count": 10,
   "id": "6dce4d33",
   "metadata": {},
   "outputs": [
    {
     "data": {
      "text/plain": [
       "([], [])"
      ]
     },
     "execution_count": 10,
     "metadata": {},
     "output_type": "execute_result"
    },
    {
     "data": {
      "image/png": "[encoded data removed]",
      "text/plain": [
       "<Figure size 576x360 with 1 Axes>"
      ]
     },
     "metadata": {
      "needs_background": "light"
     },
     "output_type": "display_data"
    }
   ],
   "source": [
    "tau_1 = []\n",
    "tau_2 = []\n",
    "tau_1_wdm = []\n",
    "tau_1_v2 = []\n",
    "\n",
    "for halo in subhalos_1.halos:\n",
    "    params_phys = halo.params_physical\n",
    "    tau_1.append(params_phys['r_trunc_kpc']/params_phys['rs'])\n",
    "for halo in subhalos_2.halos:\n",
    "    params_phys = halo.params_physical\n",
    "    tau_2.append(params_phys['r_trunc_kpc']/params_phys['rs'])\n",
    "for halo in subhalos_1_wdm.halos:\n",
    "    params_phys = halo.params_physical\n",
    "    tau_1_wdm.append(params_phys['r_trunc_kpc']/params_phys['rs'])\n",
    "for halo in subhalos_1_v2.halos:\n",
    "    params_phys = halo.params_physical\n",
    "    tau_1_v2.append(params_phys['r_trunc_kpc']/params_phys['rs'])\n",
    "    \n",
    "fig = plt.figure(1)\n",
    "fig.set_size_inches(8,5)\n",
    "_ = plt.hist(np.log10(tau_1),bins=35,range=(-1.75, 1.5), color='k',alpha=0.5,density=True,\n",
    "             label='CDM\\nNew model')\n",
    "_ = plt.hist(np.log10(tau_2),bins=35,range=(-1.75, 1.5), color='m',alpha=0.5,density=True,\n",
    "            label='CDM and WDM\\nGilman et al. (2020)')\n",
    "_ = plt.hist(np.log10(tau_1_wdm),bins=35,range=(-1.75,1.5), color='r',alpha=0.5,density=True,\n",
    "            label='WDM\\nNew model')\n",
    "_ = plt.hist(np.log10(tau_1_v2),bins=35,range=(-1.75,1.5), color='g',alpha=0.5,density=True,\n",
    "            label='CDM\\n Galacticus\\n'+r'$c_8 = 50$')\n",
    "\n",
    "plt.xlabel(r'$\\log_{10} \\frac{r_t}{r_s}$', fontsize=22)\n",
    "plt.legend(frameon=False,fontsize=14)\n",
    "plt.yticks([])"
   ]
  },
  {
   "cell_type": "markdown",
   "id": "1a90e00f",
   "metadata": {},
   "source": [
    "\\begin{equation}\n",
    "\\frac{r_t}{r_s} = \\lambda \\left(\\frac{c}{\\langle c\\left(m\\right) \\rangle} \\right)^3 \\left(r_{\\rm{peri}} / 0.5 \\rm{Mpc}\\right)\n",
    "\\end{equation}"
   ]
  },
  {
   "cell_type": "code",
   "execution_count": null,
   "id": "2b87fec9",
   "metadata": {},
   "outputs": [],
   "source": []
  }
 ],
 "metadata": {
  "kernelspec": {
   "display_name": "Python 3",
   "language": "python",
   "name": "python3"
  },
  "language_info": {
   "codemirror_mode": {
    "name": "ipython",
    "version": 3
   },
   "file_extension": ".py",
   "mimetype": "text/x-python",
   "name": "python",
   "nbconvert_exporter": "python",
   "pygments_lexer": "ipython3",
   "version": "3.8.10"
  }
 },
 "nbformat": 4,
 "nbformat_minor": 5
}
