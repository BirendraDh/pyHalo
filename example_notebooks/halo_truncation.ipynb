{
 "cells": [
  {
   "cell_type": "code",
   "execution_count": 1,
   "id": "30bf6538",
   "metadata": {},
   "outputs": [],
   "source": [
    "from pyHalo.preset_models import CDM, WDM\n",
    "import matplotlib.pyplot as plt\n",
    "import numpy as np\n",
    "import pickle\n",
    "import os"
   ]
  },
  {
   "cell_type": "code",
   "execution_count": null,
   "id": "a530e913",
   "metadata": {},
   "outputs": [],
   "source": [
    "zlens = 0.5\n",
    "zsource = 2.0\n",
    "path_to_interp = os.getcwd()+'/../pyHalo/Halos/adiabatic_tides_data/subhalo_mass_loss_interp'\n",
    "f = open(path_to_interp, 'rb')\n",
    "mass_loss_interp = pickle.load(f)\n",
    "f.close()\n",
    "\n",
    "subhalos_1 = CDM(zlens, zsource, LOS_normalization=0.0, sigma_sub=0.1,\n",
    "                truncation_model_subhalos='ADIABATIC_TIDES', \n",
    "                 kwargs_trunction_model_subhalos={'log_m_host': 13, 'z_host': zlens, \n",
    "                                                  'mass_loss_interp': mass_loss_interp})\n",
    "\n",
    "subhalos_1_wdm = WDM(zlens, zsource, log_mc=7., LOS_normalization=0.0, sigma_sub=0.1,\n",
    "                truncation_model_subhalos='ADIABATIC_TIDES', \n",
    "                 kwargs_trunction_model_subhalos={'log_m_host': 13, 'z_host': zlens,\n",
    "                                                 'mass_loss_interp': mass_loss_interp})\n",
    "\n",
    "kwargs_concentration_model = {'c0': 50.0, 'beta': 0.9, 'zeta': 1.1, 'scatter': False}\n",
    "subhalos_1_v2 = CDM(zlens, zsource, LOS_normalization=0.0, sigma_sub=0.1,\n",
    "                truncation_model_subhalos='ADIABATIC_TIDES', \n",
    "                 kwargs_trunction_model_subhalos={'log_m_host': 13, 'z_host': zlens, \n",
    "                                                  'mass_loss_interp': mass_loss_interp},\n",
    "                   concentration_model_subhalos='PEAK_HEIGHT_POWERLAW',\n",
    "                   kwargs_concentration_model_subhalos=kwargs_concentration_model)\n",
    "\n",
    "subhalos_2 = CDM(zlens, zsource, LOS_normalization=0.0, sigma_sub=0.1)"
   ]
  },
  {
   "cell_type": "code",
   "execution_count": null,
   "id": "5a432611",
   "metadata": {
    "scrolled": false
   },
   "outputs": [],
   "source": [
    "tau_1 = []\n",
    "tau_2 = []\n",
    "tau_1_wdm = []\n",
    "tau_1_v2 = []\n",
    "\n",
    "for halo in subhalos_1.halos:\n",
    "    params_phys = halo.params_physical\n",
    "    tau_1.append(params_phys['r_trunc_kpc']/params_phys['rs'])\n",
    "for halo in subhalos_2.halos:\n",
    "    params_phys = halo.params_physical\n",
    "    tau_2.append(params_phys['r_trunc_kpc']/params_phys['rs'])\n",
    "for halo in subhalos_1_wdm.halos:\n",
    "    params_phys = halo.params_physical\n",
    "    tau_1_wdm.append(params_phys['r_trunc_kpc']/params_phys['rs'])\n",
    "for halo in subhalos_1_v2.halos:\n",
    "    params_phys = halo.params_physical\n",
    "    tau_1_v2.append(params_phys['r_trunc_kpc']/params_phys['rs'])\n",
    "    \n",
    "    fig = plt.figure(1)\n",
    "fig.set_size_inches(8,5)\n",
    "_ = plt.hist(np.log10(tau_1),bins=35,range=(-0.75, 1.5), color='k',alpha=0.5,density=True,\n",
    "             label='CDM\\nAdiabatic Tides+Galacticus')\n",
    "_ = plt.hist(np.log10(tau_2),bins=35,range=(-0.75, 1.5), color='m',alpha=0.5,density=True,\n",
    "            label='CDM and WDM\\nGilman et al. (2020)')\n",
    "_ = plt.hist(np.log10(tau_1_wdm),bins=35,range=(-0.75,1.5), color='r',alpha=0.5,density=True,\n",
    "            label='WDM\\nAdiabatic Tides+Galacticus')\n",
    "_ = plt.hist(np.log10(tau_1_v2),bins=35,range=(-0.75,1.5), color='g',alpha=0.5,density=True,\n",
    "            label='CDM\\nAdiabatic Tides+Galacticus\\n'+r'$c_8 = 50$')\n",
    "\n",
    "plt.xlabel(r'$\\log_{10} \\frac{r_t}{r_s}$', fontsize=22)\n",
    "plt.legend(frameon=False,fontsize=14)\n",
    "plt.yticks([])"
   ]
  },
  {
   "cell_type": "code",
   "execution_count": null,
   "id": "599a6662",
   "metadata": {},
   "outputs": [],
   "source": [
    "zlens = 0.5\n",
    "zsource = 2.0\n",
    "LOS_1 = CDM(zlens, zsource, LOS_normalization=1.0, sigma_sub=0.0)\n",
    "LOS_2 = CDM(zlens, zsource, LOS_normalization=1.0, sigma_sub=0.0,\n",
    "           truncation_model_fieldhalos='SPLASHBACK')"
   ]
  },
  {
   "cell_type": "code",
   "execution_count": null,
   "id": "c9d2a6de",
   "metadata": {},
   "outputs": [],
   "source": [
    "tau_LOS_1 = []\n",
    "tau_LOS_2 = []\n",
    "\n",
    "for halo in LOS_1.halos:\n",
    "    params_phys = halo.params_physical\n",
    "    tau_LOS_1.append(params_phys['r_trunc_kpc']/params_phys['rs'])\n",
    "for halo in LOS_2.halos:\n",
    "    params_phys = halo.params_physical\n",
    "    tau_LOS_2.append(params_phys['r_trunc_kpc']/params_phys['rs'])\n"
   ]
  },
  {
   "cell_type": "code",
   "execution_count": null,
   "id": "a1018393",
   "metadata": {},
   "outputs": [],
   "source": [
    "fig = plt.figure(1)\n",
    "fig.set_size_inches(8,5)\n",
    "_ = plt.hist(np.log10(tau_LOS_1),bins=35,range=(0.5, 2.0), color='k',alpha=0.5,density=True,\n",
    "             label='r50')\n",
    "_ = plt.hist(np.log10(tau_LOS_2),bins=35,range=(0.5, 2.0), color='m',alpha=0.5,density=True,\n",
    "            label='splahsback')\n",
    "\n",
    "plt.xlabel(r'$\\log_{10} \\frac{r_t}{r_s}$', fontsize=22)\n",
    "plt.legend(frameon=False,fontsize=14)\n",
    "plt.yticks([])"
   ]
  },
  {
   "cell_type": "code",
   "execution_count": 16,
   "id": "b1cf531b",
   "metadata": {},
   "outputs": [],
   "source": [
    "median_rt_over_rs = 2.0\n",
    "c_power = 3.0\n",
    "zlens = 0.5\n",
    "zsource = 2.0\n",
    "sigma_sub = 0.1\n",
    "subhalos_1 = CDM(zlens, zsource, LOS_normalization=0.0, sigma_sub=sigma_sub,\n",
    "                truncation_model_subhalos='TRUNCATION_MEAN_DENSITY', \n",
    "                 kwargs_trunction_model_subhalos={'median_rt_over_rs': median_rt_over_rs, 'c_power': c_power})\n",
    "\n",
    "subhalos_1_wdm = WDM(zlens, zsource, log_mc=5.5, LOS_normalization=0.0, sigma_sub=sigma_sub,\n",
    "                truncation_model_subhalos='TRUNCATION_MEAN_DENSITY', \n",
    "                 kwargs_trunction_model_subhalos={'median_rt_over_rs': median_rt_over_rs, 'c_power': c_power})\n",
    "\n",
    "kwargs_concentration_model = {'c0': 50.0, 'beta': 0.9, 'zeta': 1.1, 'scatter': False}\n",
    "subhalos_1_v2 = CDM(zlens, zsource, LOS_normalization=0.0, sigma_sub=sigma_sub,\n",
    "                truncation_model_subhalos='TRUNCATION_MEAN_DENSITY', \n",
    "                 kwargs_trunction_model_subhalos={'median_rt_over_rs': median_rt_over_rs, 'c_power': c_power},\n",
    "                   concentration_model_subhalos='PEAK_HEIGHT_POWERLAW',\n",
    "                   kwargs_concentration_model_subhalos=kwargs_concentration_model)\n",
    "\n",
    "subhalos_2 = CDM(zlens, zsource, LOS_normalization=0.0, sigma_sub=sigma_sub)"
   ]
  },
  {
   "cell_type": "code",
   "execution_count": 17,
   "id": "6dce4d33",
   "metadata": {},
   "outputs": [
    {
     "data": {
      "text/plain": [
       "([], [])"
      ]
     },
     "execution_count": 17,
     "metadata": {},
     "output_type": "execute_result"
    },
    {
     "data": {
      "image/png": "[encoded data removed]",
      "text/plain": [
       "<Figure size 576x360 with 1 Axes>"
      ]
     },
     "metadata": {
      "needs_background": "light"
     },
     "output_type": "display_data"
    }
   ],
   "source": [
    "tau_1 = []\n",
    "tau_2 = []\n",
    "tau_1_wdm = []\n",
    "tau_1_v2 = []\n",
    "\n",
    "for halo in subhalos_1.halos:\n",
    "    params_phys = halo.params_physical\n",
    "    tau_1.append(params_phys['r_trunc_kpc']/params_phys['rs'])\n",
    "for halo in subhalos_2.halos:\n",
    "    params_phys = halo.params_physical\n",
    "    tau_2.append(params_phys['r_trunc_kpc']/params_phys['rs'])\n",
    "for halo in subhalos_1_wdm.halos:\n",
    "    params_phys = halo.params_physical\n",
    "    tau_1_wdm.append(params_phys['r_trunc_kpc']/params_phys['rs'])\n",
    "for halo in subhalos_1_v2.halos:\n",
    "    params_phys = halo.params_physical\n",
    "    tau_1_v2.append(params_phys['r_trunc_kpc']/params_phys['rs'])\n",
    "    \n",
    "fig = plt.figure(1)\n",
    "fig.set_size_inches(8,5)\n",
    "_ = plt.hist(np.log10(tau_1),bins=35,range=(-1.75, 1.5), color='k',alpha=0.5,density=True,\n",
    "             label='CDM\\nNew model')\n",
    "_ = plt.hist(np.log10(tau_2),bins=35,range=(-1.75, 1.5), color='m',alpha=0.5,density=True,\n",
    "            label='CDM and WDM\\nGilman et al. (2020)')\n",
    "_ = plt.hist(np.log10(tau_1_wdm),bins=35,range=(-1.75,1.5), color='r',alpha=0.5,density=True,\n",
    "            label='WDM\\nNew model')\n",
    "_ = plt.hist(np.log10(tau_1_v2),bins=35,range=(-1.75,1.5), color='g',alpha=0.5,density=True,\n",
    "            label='CDM\\nAdiabatic Tides+Galacticus\\n'+r'$c_8 = 50$')\n",
    "\n",
    "plt.xlabel(r'$\\log_{10} \\frac{r_t}{r_s}$', fontsize=22)\n",
    "plt.legend(frameon=False,fontsize=14)\n",
    "plt.yticks([])"
   ]
  },
  {
   "cell_type": "code",
   "execution_count": 18,
   "id": "6426e77d",
   "metadata": {},
   "outputs": [
    {
     "name": "stdout",
     "output_type": "stream",
     "text": [
      "      fun: 1.838641782821724e-11\n",
      " hess_inv: array([[1.50956942e-06]])\n",
      "      jac: array([-4.18743973e-10])\n",
      "  message: 'Optimization terminated successfully.'\n",
      "     nfev: 28\n",
      "      nit: 13\n",
      "     njev: 14\n",
      "   status: 0\n",
      "  success: True\n",
      "        x: array([16.88547669])\n"
     ]
    },
    {
     "data": {
      "image/png": "[encoded data removed]",
      "text/plain": [
       "<Figure size 432x288 with 1 Axes>"
      ]
     },
     "metadata": {
      "needs_background": "light"
     },
     "output_type": "display_data"
    }
   ],
   "source": [
    "from pyHalo.Halos.lens_cosmo import LensCosmo\n",
    "from scipy.optimize import minimize\n",
    "\n",
    "def mean_enclosed_density_nfw(r_over_rs, rhos):\n",
    "    return 3 * rhos / r_over_rs ** 3 * (np.log(1 + r_over_rs) - r_over_rs / (1 + r_over_rs))\n",
    "   \n",
    "def solve_tau(tau, rhos_sub, rho_enlocsed_host):\n",
    "    \n",
    "    rho_enclosed_sub = mean_enclosed_density_nfw(tau, rhos_sub)\n",
    "    penalty = (rho_enclosed_sub - rho_enlocsed_host)**2/10**2\n",
    "    return penalty\n",
    "    \n",
    "    \n",
    "lc = LensCosmo()\n",
    "msub = 10 ** 8\n",
    "csub = 16.0\n",
    "zsub = 0.5\n",
    "x_pericenter = 0.08\n",
    "\n",
    "x = np.logspace(-1, 2, 100) \n",
    "mhost = 10 ** 13.3\n",
    "chost = 6.0\n",
    "rhos_host, rs_host, _ = lc.NFW_params_physical(mhost, chost, zsub)\n",
    "\n",
    "rhos_sub, rs_sub, _ = lc.NFW_params_physical(msub, csub, zsub)\n",
    "rho_mean_sub = mean_enclosed_density_nfw(x * rs_sub, rhos_sub)\n",
    "\n",
    "host_rho_mean = mean_enclosed_density_nfw(x_pericenter * rs_host, rhos_host)\n",
    "\n",
    "plt.loglog(x, rho_mean_sub)\n",
    "plt.axhline(3 * host_rho_mean)\n",
    "\n",
    "opt = minimize(solve_tau, x0=10, args=(rhos_sub, host_rho_mean))\n",
    "print(opt)"
   ]
  },
  {
   "cell_type": "code",
   "execution_count": null,
   "id": "be7ebd78",
   "metadata": {},
   "outputs": [],
   "source": []
  },
  {
   "cell_type": "code",
   "execution_count": null,
   "id": "ae2e64a7",
   "metadata": {},
   "outputs": [],
   "source": []
  },
  {
   "cell_type": "code",
   "execution_count": null,
   "id": "58f532f3",
   "metadata": {},
   "outputs": [],
   "source": []
  }
 ],
 "metadata": {
  "kernelspec": {
   "display_name": "Python 3",
   "language": "python",
   "name": "python3"
  },
  "language_info": {
   "codemirror_mode": {
    "name": "ipython",
    "version": 3
   },
   "file_extension": ".py",
   "mimetype": "text/x-python",
   "name": "python",
   "nbconvert_exporter": "python",
   "pygments_lexer": "ipython3",
   "version": "3.8.10"
  }
 },
 "nbformat": 4,
 "nbformat_minor": 5
}
